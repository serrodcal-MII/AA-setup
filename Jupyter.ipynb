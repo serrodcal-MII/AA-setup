{
 "cells": [
  {
   "cell_type": "markdown",
   "metadata": {},
   "source": [
    "# El entorno de trabajo"
   ]
  },
  {
   "cell_type": "markdown",
   "metadata": {},
   "source": [
    "Este es el entorno de trabajo que vamos a utilizar en las sesiones prácticas de la asignatura, se llama Jupyter y viene incluido en la distribución *Anaconda* de *Python*."
   ]
  },
  {
   "cell_type": "markdown",
   "metadata": {},
   "source": [
    "En este entorno podemos combinar 'cajas' de texto en las que explicar ideas y conceptos, y 'cajas' de código en las que definir o evaluar funciones *Python*."
   ]
  },
  {
   "cell_type": "code",
   "execution_count": 1,
   "metadata": {},
   "outputs": [
    {
     "data": {
      "text/plain": [
       "3"
      ]
     },
     "execution_count": 1,
     "metadata": {},
     "output_type": "execute_result"
    }
   ],
   "source": [
    "1+2"
   ]
  },
  {
   "cell_type": "markdown",
   "metadata": {},
   "source": [
    "El tipo de caja se controla con el menú desplegable de la derecha en el que podemos escoger 'Code' para cajas de código o 'Markdown' para cajas de texto."
   ]
  },
  {
   "cell_type": "markdown",
   "metadata": {},
   "source": [
    "El texto se escribe en formato 'Markdown' con el que podemos fácilmente crear cabeceras, destacar texto, crear listas, incluir imágenes o enlaces a páginas web. Un resumen de las directivas 'Markdown' se puede encontrar fácilmente en internet buscando 'markdown cheat sheet'."
   ]
  },
  {
   "cell_type": "markdown",
   "metadata": {},
   "source": [
    "Una vez completado el contenido de una caja, podemos evaluarla con la combinación de teclas Control-Enter (quedándonos en la misma caja que hemos evaluado), Mayusculas-Enter (pasando a la siguiente caja) o Alt-Enter (creando una nueva caja)."
   ]
  },
  {
   "cell_type": "markdown",
   "metadata": {},
   "source": [
    "También disponemos de las habituales opciones de edición en las cajas (cortar, copiar, pegar) así como otras que nos permiten dividir una caja o unir cajas. En el menú superior tenemos acceso a estas y otras opciones."
   ]
  },
  {
   "cell_type": "markdown",
   "metadata": {},
   "source": [
    "En el menú 'Help' disponéis de enlaces a documentación de algunas de las herramientas que usaremos durante el curso, *Python*, *NumPy*, *SciPy*, *Matplotlib*, *Pandas*"
   ]
  },
  {
   "cell_type": "markdown",
   "metadata": {},
   "source": [
    "## Introducción a NumPy"
   ]
  },
  {
   "cell_type": "markdown",
   "metadata": {},
   "source": [
    "*NumPy* es una biblioteca para manejo de arrays multidimensionales, cuyas componentes son datos del mismo tipo."
   ]
  },
  {
   "cell_type": "code",
   "execution_count": 2,
   "metadata": {},
   "outputs": [],
   "source": [
    "import numpy as np"
   ]
  },
  {
   "cell_type": "markdown",
   "metadata": {},
   "source": [
    "Para crear un array *NumPy* usamos la función `np.array`, proporcionando los datos como listas de listas, con la misma cantidad de datos."
   ]
  },
  {
   "cell_type": "code",
   "execution_count": 3,
   "metadata": {},
   "outputs": [],
   "source": [
    "a = np.array([[1.8,2.3,3.4],\n",
    "              [2.5,3.2,1.1]])"
   ]
  },
  {
   "cell_type": "markdown",
   "metadata": {},
   "source": [
    "El atributo `ndim` nos indica el número de dimensiones del array y el atributo `shape` el número de datos que hay en cada dimensión"
   ]
  },
  {
   "cell_type": "code",
   "execution_count": 4,
   "metadata": {},
   "outputs": [
    {
     "data": {
      "text/plain": [
       "2"
      ]
     },
     "execution_count": 4,
     "metadata": {},
     "output_type": "execute_result"
    }
   ],
   "source": [
    "a.ndim"
   ]
  },
  {
   "cell_type": "code",
   "execution_count": 5,
   "metadata": {},
   "outputs": [
    {
     "data": {
      "text/plain": [
       "(2, 3)"
      ]
     },
     "execution_count": 5,
     "metadata": {},
     "output_type": "execute_result"
    }
   ],
   "source": [
    "a.shape"
   ]
  },
  {
   "cell_type": "markdown",
   "metadata": {},
   "source": [
    "Para obtener un dato debemos indicar su posición (contada desde 0) como una secuencia de valores que indican la componente en la que se encuentra"
   ]
  },
  {
   "cell_type": "code",
   "execution_count": 6,
   "metadata": {},
   "outputs": [
    {
     "data": {
      "text/plain": [
       "3.2"
      ]
     },
     "execution_count": 6,
     "metadata": {},
     "output_type": "execute_result"
    }
   ],
   "source": [
    "a[1,1]"
   ]
  },
  {
   "cell_type": "markdown",
   "metadata": {},
   "source": [
    "Los datos de un array se pueden reorganizar cambiando las dimensiones con el método (no destructivo) `np.reshape`"
   ]
  },
  {
   "cell_type": "code",
   "execution_count": 7,
   "metadata": {},
   "outputs": [
    {
     "data": {
      "text/plain": [
       "array([[1.8, 2.3],\n",
       "       [3.4, 2.5],\n",
       "       [3.2, 1.1]])"
      ]
     },
     "execution_count": 7,
     "metadata": {},
     "output_type": "execute_result"
    }
   ],
   "source": [
    "a.reshape(3,2)"
   ]
  },
  {
   "cell_type": "code",
   "execution_count": 8,
   "metadata": {},
   "outputs": [
    {
     "data": {
      "text/plain": [
       "array([[1.8, 2.3, 3.4],\n",
       "       [2.5, 3.2, 1.1]])"
      ]
     },
     "execution_count": 8,
     "metadata": {},
     "output_type": "execute_result"
    }
   ],
   "source": [
    "a"
   ]
  },
  {
   "cell_type": "code",
   "execution_count": 9,
   "metadata": {},
   "outputs": [
    {
     "data": {
      "text/plain": [
       "array([[0.0573417 , 0.52846619, 0.63518243, 0.92832322],\n",
       "       [0.42225506, 0.44115999, 0.87072423, 0.9153737 ],\n",
       "       [0.98880338, 0.18209531, 0.92645333, 0.90130236]])"
      ]
     },
     "execution_count": 9,
     "metadata": {},
     "output_type": "execute_result"
    }
   ],
   "source": [
    "np.random.random((3,4))"
   ]
  },
  {
   "cell_type": "code",
   "execution_count": 10,
   "metadata": {},
   "outputs": [
    {
     "data": {
      "text/plain": [
       "array([[ 1,  3,  5],\n",
       "       [ 7,  9, 11]])"
      ]
     },
     "execution_count": 10,
     "metadata": {},
     "output_type": "execute_result"
    }
   ],
   "source": [
    "np.arange(1,12,2).reshape(2,3)"
   ]
  },
  {
   "cell_type": "markdown",
   "metadata": {},
   "source": [
    "### Operaciones con arrays"
   ]
  },
  {
   "cell_type": "code",
   "execution_count": 11,
   "metadata": {},
   "outputs": [],
   "source": [
    "A = np.array([[1,2,3],[4,5,6]])\n",
    "B = np.random.random((2,3))"
   ]
  },
  {
   "cell_type": "code",
   "execution_count": 12,
   "metadata": {},
   "outputs": [
    {
     "data": {
      "text/plain": [
       "array([[1, 2, 3],\n",
       "       [4, 5, 6]])"
      ]
     },
     "execution_count": 12,
     "metadata": {},
     "output_type": "execute_result"
    }
   ],
   "source": [
    "A"
   ]
  },
  {
   "cell_type": "code",
   "execution_count": 13,
   "metadata": {},
   "outputs": [
    {
     "data": {
      "text/plain": [
       "array([[0.50644243, 0.17872725, 0.13250284],\n",
       "       [0.25104472, 0.76106406, 0.02619418]])"
      ]
     },
     "execution_count": 13,
     "metadata": {},
     "output_type": "execute_result"
    }
   ],
   "source": [
    "B"
   ]
  },
  {
   "cell_type": "code",
   "execution_count": 14,
   "metadata": {},
   "outputs": [],
   "source": [
    "A *= 3"
   ]
  },
  {
   "cell_type": "code",
   "execution_count": 15,
   "metadata": {},
   "outputs": [
    {
     "data": {
      "text/plain": [
       "array([[ 3,  6,  9],\n",
       "       [12, 15, 18]])"
      ]
     },
     "execution_count": 15,
     "metadata": {},
     "output_type": "execute_result"
    }
   ],
   "source": [
    "A"
   ]
  },
  {
   "cell_type": "code",
   "execution_count": 16,
   "metadata": {},
   "outputs": [
    {
     "data": {
      "text/plain": [
       "array([[ 3.50644243,  6.17872725,  9.13250284],\n",
       "       [12.25104472, 15.76106406, 18.02619418]])"
      ]
     },
     "execution_count": 16,
     "metadata": {},
     "output_type": "execute_result"
    }
   ],
   "source": [
    "A+B"
   ]
  },
  {
   "cell_type": "code",
   "execution_count": 17,
   "metadata": {},
   "outputs": [
    {
     "data": {
      "text/plain": [
       "array([[ 1.51932728,  1.07236347,  1.19252558],\n",
       "       [ 3.0125367 , 11.41596088,  0.47149529]])"
      ]
     },
     "execution_count": 17,
     "metadata": {},
     "output_type": "execute_result"
    }
   ],
   "source": [
    "A*B"
   ]
  },
  {
   "cell_type": "code",
   "execution_count": 18,
   "metadata": {},
   "outputs": [
    {
     "data": {
      "text/plain": [
       "3"
      ]
     },
     "execution_count": 18,
     "metadata": {},
     "output_type": "execute_result"
    }
   ],
   "source": [
    "A.min()"
   ]
  },
  {
   "cell_type": "code",
   "execution_count": 19,
   "metadata": {},
   "outputs": [
    {
     "data": {
      "text/plain": [
       "0.7610640584175777"
      ]
     },
     "execution_count": 19,
     "metadata": {},
     "output_type": "execute_result"
    }
   ],
   "source": [
    "B.max()"
   ]
  },
  {
   "cell_type": "code",
   "execution_count": 20,
   "metadata": {},
   "outputs": [
    {
     "data": {
      "text/plain": [
       "array([[ True, False, False],\n",
       "       [False,  True, False]])"
      ]
     },
     "execution_count": 20,
     "metadata": {},
     "output_type": "execute_result"
    }
   ],
   "source": [
    "B>0.5"
   ]
  },
  {
   "cell_type": "code",
   "execution_count": 21,
   "metadata": {},
   "outputs": [
    {
     "data": {
      "text/plain": [
       "array([[0.50644243, 0.25104472],\n",
       "       [0.17872725, 0.76106406],\n",
       "       [0.13250284, 0.02619418]])"
      ]
     },
     "execution_count": 21,
     "metadata": {},
     "output_type": "execute_result"
    }
   ],
   "source": [
    "B.T"
   ]
  },
  {
   "cell_type": "code",
   "execution_count": 22,
   "metadata": {},
   "outputs": [
    {
     "data": {
      "text/plain": [
       "array([[ 3.78421634,  5.55526617],\n",
       "       [11.14326897, 14.89999286]])"
      ]
     },
     "execution_count": 22,
     "metadata": {},
     "output_type": "execute_result"
    }
   ],
   "source": [
    "np.dot(A,B.T)"
   ]
  },
  {
   "cell_type": "markdown",
   "metadata": {},
   "source": [
    "### Indexado y slicing"
   ]
  },
  {
   "cell_type": "code",
   "execution_count": 23,
   "metadata": {},
   "outputs": [],
   "source": [
    "C = np.arange(15).reshape((3,5))"
   ]
  },
  {
   "cell_type": "code",
   "execution_count": 24,
   "metadata": {},
   "outputs": [
    {
     "data": {
      "text/plain": [
       "array([[ 0,  1,  2,  3,  4],\n",
       "       [ 5,  6,  7,  8,  9],\n",
       "       [10, 11, 12, 13, 14]])"
      ]
     },
     "execution_count": 24,
     "metadata": {},
     "output_type": "execute_result"
    }
   ],
   "source": [
    "C"
   ]
  },
  {
   "cell_type": "code",
   "execution_count": 25,
   "metadata": {},
   "outputs": [
    {
     "data": {
      "text/plain": [
       "array([[ 0,  2],\n",
       "       [ 5,  7],\n",
       "       [10, 12]])"
      ]
     },
     "execution_count": 25,
     "metadata": {},
     "output_type": "execute_result"
    }
   ],
   "source": [
    "C[:,:3:2]"
   ]
  },
  {
   "cell_type": "code",
   "execution_count": 26,
   "metadata": {},
   "outputs": [
    {
     "data": {
      "text/plain": [
       "array([10, 11, 12, 13, 14])"
      ]
     },
     "execution_count": 26,
     "metadata": {},
     "output_type": "execute_result"
    }
   ],
   "source": [
    "C[-1]"
   ]
  },
  {
   "cell_type": "code",
   "execution_count": 27,
   "metadata": {},
   "outputs": [
    {
     "data": {
      "text/plain": [
       "array([[0, 1, 2, 3, 4],\n",
       "       [5, 6, 7, 8, 9]])"
      ]
     },
     "execution_count": 27,
     "metadata": {},
     "output_type": "execute_result"
    }
   ],
   "source": [
    "C[:-1]"
   ]
  },
  {
   "cell_type": "code",
   "execution_count": 28,
   "metadata": {},
   "outputs": [
    {
     "data": {
      "text/plain": [
       "array([ 2,  7, 12])"
      ]
     },
     "execution_count": 28,
     "metadata": {},
     "output_type": "execute_result"
    }
   ],
   "source": [
    "C[:,2]"
   ]
  },
  {
   "cell_type": "markdown",
   "metadata": {},
   "source": [
    "### Indexación con arrays"
   ]
  },
  {
   "cell_type": "code",
   "execution_count": 29,
   "metadata": {},
   "outputs": [],
   "source": [
    "D = np.arange(15)**2"
   ]
  },
  {
   "cell_type": "code",
   "execution_count": 30,
   "metadata": {},
   "outputs": [
    {
     "data": {
      "text/plain": [
       "array([  0,   1,   4,   9,  16,  25,  36,  49,  64,  81, 100, 121, 144,\n",
       "       169, 196])"
      ]
     },
     "execution_count": 30,
     "metadata": {},
     "output_type": "execute_result"
    }
   ],
   "source": [
    "D"
   ]
  },
  {
   "cell_type": "code",
   "execution_count": 31,
   "metadata": {},
   "outputs": [],
   "source": [
    "i = np.array([2,3,0,6])"
   ]
  },
  {
   "cell_type": "code",
   "execution_count": 32,
   "metadata": {},
   "outputs": [
    {
     "data": {
      "text/plain": [
       "array([ 4,  9,  0, 36])"
      ]
     },
     "execution_count": 32,
     "metadata": {},
     "output_type": "execute_result"
    }
   ],
   "source": [
    "D[i]"
   ]
  },
  {
   "cell_type": "code",
   "execution_count": 33,
   "metadata": {},
   "outputs": [],
   "source": [
    "j = np.array([[6,1,9],[4,2,4],[3,7,1]])"
   ]
  },
  {
   "cell_type": "code",
   "execution_count": 34,
   "metadata": {},
   "outputs": [
    {
     "data": {
      "text/plain": [
       "array([[36,  1, 81],\n",
       "       [16,  4, 16],\n",
       "       [ 9, 49,  1]])"
      ]
     },
     "execution_count": 34,
     "metadata": {},
     "output_type": "execute_result"
    }
   ],
   "source": [
    "D[j]"
   ]
  },
  {
   "cell_type": "markdown",
   "metadata": {},
   "source": [
    "### Indexación booleana"
   ]
  },
  {
   "cell_type": "code",
   "execution_count": 35,
   "metadata": {},
   "outputs": [],
   "source": [
    "E = np.random.random((2,4))"
   ]
  },
  {
   "cell_type": "code",
   "execution_count": 36,
   "metadata": {},
   "outputs": [
    {
     "data": {
      "text/plain": [
       "array([[0.03969035, 0.1539079 , 0.42007447, 0.20577842],\n",
       "       [0.18875271, 0.01169445, 0.13218457, 0.73642842]])"
      ]
     },
     "execution_count": 36,
     "metadata": {},
     "output_type": "execute_result"
    }
   ],
   "source": [
    "E"
   ]
  },
  {
   "cell_type": "code",
   "execution_count": 37,
   "metadata": {},
   "outputs": [],
   "source": [
    "I = E>0.5"
   ]
  },
  {
   "cell_type": "code",
   "execution_count": 38,
   "metadata": {},
   "outputs": [
    {
     "data": {
      "text/plain": [
       "array([[False, False, False, False],\n",
       "       [False, False, False,  True]])"
      ]
     },
     "execution_count": 38,
     "metadata": {},
     "output_type": "execute_result"
    }
   ],
   "source": [
    "I"
   ]
  },
  {
   "cell_type": "code",
   "execution_count": 39,
   "metadata": {},
   "outputs": [
    {
     "data": {
      "text/plain": [
       "array([0.73642842])"
      ]
     },
     "execution_count": 39,
     "metadata": {},
     "output_type": "execute_result"
    }
   ],
   "source": [
    "E[I]"
   ]
  },
  {
   "cell_type": "code",
   "execution_count": 40,
   "metadata": {},
   "outputs": [],
   "source": [
    "E[I] = 0"
   ]
  },
  {
   "cell_type": "code",
   "execution_count": 41,
   "metadata": {},
   "outputs": [
    {
     "data": {
      "text/plain": [
       "array([[0.03969035, 0.1539079 , 0.42007447, 0.20577842],\n",
       "       [0.18875271, 0.01169445, 0.13218457, 0.        ]])"
      ]
     },
     "execution_count": 41,
     "metadata": {},
     "output_type": "execute_result"
    }
   ],
   "source": [
    "E"
   ]
  },
  {
   "cell_type": "code",
   "execution_count": 42,
   "metadata": {},
   "outputs": [
    {
     "data": {
      "text/plain": [
       "array([0.03969035, 0.1539079 , 0.42007447, 0.20577842, 0.18875271,\n",
       "       0.01169445, 0.13218457])"
      ]
     },
     "execution_count": 42,
     "metadata": {},
     "output_type": "execute_result"
    }
   ],
   "source": [
    "E[E!=0]"
   ]
  },
  {
   "cell_type": "markdown",
   "metadata": {},
   "source": [
    "## Ejercicios"
   ]
  },
  {
   "cell_type": "markdown",
   "metadata": {},
   "source": [
    "Generar una matrix aleatoria 3x4 y normalizar sus componentes (escalándolos) de manera que el menor sea 0 y el mayor 1."
   ]
  },
  {
   "cell_type": "code",
   "execution_count": 97,
   "metadata": {},
   "outputs": [
    {
     "name": "stdout",
     "output_type": "stream",
     "text": [
      "Random matrix:\n",
      "[[0.03505365 0.4582442  0.45840792 0.93989039]\n",
      " [0.59124327 0.10302491 0.22922099 0.7291379 ]\n",
      " [0.01239908 0.7736833  0.01093643 0.68365398]]\n",
      "Normalize matrix:\n"
     ]
    },
    {
     "data": {
      "text/plain": [
       "array([[0.0259617 , 0.48151769, 0.48169393, 1.        ],\n",
       "       [0.62468849, 0.09913137, 0.23497888, 0.77312924],\n",
       "       [0.00157452, 0.82108146, 0.        , 0.72416672]])"
      ]
     },
     "execution_count": 97,
     "metadata": {},
     "output_type": "execute_result"
    }
   ],
   "source": [
    "a = np.random.rand(3,4)\n",
    "print(\"Random matrix:\")\n",
    "print(a)\n",
    "max, min = a.max(), a.min() # Get max and min\n",
    "x = (a - min)/(max - min) # Normalize\n",
    "print(\"Normalize matrix:\")\n",
    "x"
   ]
  },
  {
   "cell_type": "markdown",
   "metadata": {},
   "source": [
    "En una matriz 20x20, obtener la matriz que se obtiene al extraer las\n",
    "filas de índice par y las columnas de índice impar "
   ]
  },
  {
   "cell_type": "code",
   "execution_count": 98,
   "metadata": {},
   "outputs": [
    {
     "data": {
      "text/plain": [
       "array([[0.90915122, 0.64790041, 0.18938694, 0.15994933, 0.20042849,\n",
       "        0.4060368 , 0.45322595, 0.15431569, 0.89154677, 0.94724282],\n",
       "       [0.16823947, 0.75030473, 0.680812  , 0.69103928, 0.53587902,\n",
       "        0.45872693, 0.92223194, 0.95875407, 0.67665323, 0.67064988],\n",
       "       [0.17295041, 0.22826745, 0.72292097, 0.27262845, 0.46546949,\n",
       "        0.60386314, 0.60126385, 0.56248185, 0.74048276, 0.43068327],\n",
       "       [0.06994471, 0.30569888, 0.48348612, 0.00291829, 0.63542189,\n",
       "        0.13546853, 0.33872428, 0.51178522, 0.32747148, 0.74077859],\n",
       "       [0.397041  , 0.39700112, 0.99539965, 0.22491897, 0.84239928,\n",
       "        0.86572496, 0.34030943, 0.79353506, 0.17273597, 0.59431376],\n",
       "       [0.48705568, 0.39099263, 0.94751004, 0.84998972, 0.51148916,\n",
       "        0.69861937, 0.35699266, 0.92779978, 0.73203871, 0.30561273],\n",
       "       [0.39857969, 0.11354872, 0.43916986, 0.85931043, 0.55659834,\n",
       "        0.03281785, 0.49011864, 0.99973974, 0.93198375, 0.62105181],\n",
       "       [0.25892922, 0.67758162, 0.62929304, 0.53778738, 0.40995039,\n",
       "        0.62059231, 0.34315809, 0.67159442, 0.8061551 , 0.99008502],\n",
       "       [0.66998738, 0.98501669, 0.48819231, 0.42058315, 0.49913548,\n",
       "        0.95201331, 0.44266836, 0.5984543 , 0.42852052, 0.73963853],\n",
       "       [0.26742547, 0.52259178, 0.25297686, 0.35041628, 0.51256172,\n",
       "        0.29382977, 0.28162512, 0.37716439, 0.15174141, 0.91165347]])"
      ]
     },
     "execution_count": 98,
     "metadata": {},
     "output_type": "execute_result"
    }
   ],
   "source": [
    "a = np.random.rand(20,20)\n",
    "x = a[0::2,1::2]\n",
    "x"
   ]
  },
  {
   "cell_type": "markdown",
   "metadata": {},
   "source": [
    "Dada una matriz A de tamaño 20x10 y otra B de tamaño 20x1 con valores entre\n",
    "0 y 100, devolver una matriz conteniendo las filas de A que corresponden a las\n",
    "posiciones de B que son mayores de 50 "
   ]
  },
  {
   "cell_type": "code",
   "execution_count": 99,
   "metadata": {},
   "outputs": [
    {
     "data": {
      "text/plain": [
       "array([[73,  0, 15, 60, 44, 89, 78, 29, 93, 71],\n",
       "       [87, 58, 94, 79, 66,  8, 90, 10, 65, 61],\n",
       "       [25, 30, 59, 40, 93, 32, 81, 92, 92, 98],\n",
       "       [57, 61, 69, 85, 12, 82,  0, 76, 28, 88],\n",
       "       [51, 42, 31, 99, 47, 15, 94, 79, 75, 57],\n",
       "       [70, 79,  8,  5, 59, 76, 94, 17, 48, 82],\n",
       "       [96,  7,  7, 33, 77, 92, 35, 29, 91, 10],\n",
       "       [70, 85, 86, 63, 98, 99, 54,  1, 50, 83],\n",
       "       [61, 75, 99, 84, 39,  7, 58, 91, 10, 89],\n",
       "       [ 4,  7, 13, 25, 19, 50, 84, 29, 25, 49],\n",
       "       [65, 92, 82, 36, 89, 43, 13, 64, 84, 90]])"
      ]
     },
     "execution_count": 99,
     "metadata": {},
     "output_type": "execute_result"
    }
   ],
   "source": [
    "A = np.random.randint(100, size=(20, 10))\n",
    "B = np.random.randint(100, size=(20, 1))\n",
    "X = np.array([A[i] for i in range(A.shape[0]) if B[i] > 50])\n",
    "X"
   ]
  },
  {
   "cell_type": "markdown",
   "metadata": {},
   "source": [
    "Otra forma de implementarse el ejercicio anterior es:"
   ]
  },
  {
   "cell_type": "code",
   "execution_count": 132,
   "metadata": {},
   "outputs": [
    {
     "data": {
      "text/plain": [
       "array([[ 3, 62, 87, 72, 88, 14, 63, 58, 86, 50],\n",
       "       [96, 88,  4, 98, 38, 89,  6, 99, 90, 34],\n",
       "       [12, 55, 49, 66, 87, 51, 30, 84, 53, 99],\n",
       "       [66, 45, 52, 28, 54, 89, 81, 19, 72, 43],\n",
       "       [ 5, 59, 87,  6,  3, 15, 51,  5, 98, 44],\n",
       "       [34, 86, 60, 68, 40, 63, 56, 34, 12, 75],\n",
       "       [57, 47, 43, 80, 44, 68, 40, 31, 98, 30],\n",
       "       [76, 79, 38, 25, 14, 63, 54, 52, 25, 40],\n",
       "       [31, 62, 40, 26, 64, 41, 65, 78,  8, 85],\n",
       "       [50, 80, 45, 44, 28, 24, 65, 27, 35, 23]])"
      ]
     },
     "execution_count": 132,
     "metadata": {},
     "output_type": "execute_result"
    }
   ],
   "source": [
    "A = np.random.randint(100, size=(20, 10))\n",
    "B = np.random.randint(100, size=(20, 1))\n",
    "mask = B[:,0] > 50\n",
    "A[mask,: ]"
   ]
  }
 ],
 "metadata": {
  "kernelspec": {
   "display_name": "Python 3",
   "language": "python",
   "name": "python3"
  },
  "language_info": {
   "codemirror_mode": {
    "name": "ipython",
    "version": 3
   },
   "file_extension": ".py",
   "mimetype": "text/x-python",
   "name": "python",
   "nbconvert_exporter": "python",
   "pygments_lexer": "ipython3",
   "version": "3.9.9"
  }
 },
 "nbformat": 4,
 "nbformat_minor": 2
}
